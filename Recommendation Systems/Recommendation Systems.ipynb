{
 "cells": [
  {
   "source": [
    "# Deisgn of AI systems"
   ],
   "cell_type": "markdown",
   "metadata": {}
  },
  {
   "source": [
    "Building a recommender system using netflix ratings and users as input"
   ],
   "cell_type": "markdown",
   "metadata": {}
  },
  {
   "cell_type": "markdown",
   "metadata": {},
   "source": [
    "## Assignment 2, Eric Johansson & Max Sonnelid"
   ]
  },
  {
   "cell_type": "code",
   "execution_count": 46,
   "metadata": {},
   "outputs": [],
   "source": [
    "import pandas as pd\n",
    "import numpy as np\n",
    "import matplotlib.pyplot as plt\n"
   ]
  },
  {
   "cell_type": "code",
   "execution_count": 47,
   "metadata": {},
   "outputs": [],
   "source": [
    "from sklearn.model_selection import train_test_split\n",
    "  \n",
    "# Read the CSV file.\n",
    "movie_genres = pd.read_csv(\"data/movie_genres.csv\", skiprows=0)\n",
    "user_reviews = pd.read_csv(\"data/user_reviews.csv\", skiprows=0)"
   ]
  },
  {
   "cell_type": "code",
   "execution_count": 48,
   "metadata": {},
   "outputs": [
    {
     "output_type": "execute_result",
     "data": {
      "text/plain": [
       "   Unnamed: 0     User  The Net  Happily N'Ever After  Tomorrowland  \\\n",
       "0           0  Vincent      0.0                   0.0           0.0   \n",
       "1           1    Edgar      0.0                   0.0           0.0   \n",
       "2           2  Addilyn      0.0                   0.0           0.0   \n",
       "3           3   Marlee      0.0                   0.0           0.0   \n",
       "4           4   Javier      0.0                   0.0           0.0   \n",
       "\n",
       "   American Hero  Das Boot  Final Destination 3  Licence to Kill  \\\n",
       "0            0.0       0.0                  0.0              0.0   \n",
       "1            0.0       0.0                  0.0              0.0   \n",
       "2            0.0       0.0                  0.0              0.0   \n",
       "3            0.0       0.0                  0.0              0.0   \n",
       "4            0.0       0.0                  0.0              0.0   \n",
       "\n",
       "   The Hundred-Foot Journey  ...  The Martian  Micmacs  Solomon and Sheba  \\\n",
       "0                       0.0  ...          0.0      0.0                0.0   \n",
       "1                       0.0  ...          0.0      0.0                0.0   \n",
       "2                       0.0  ...          0.0      0.0                0.0   \n",
       "3                       0.0  ...          0.0      0.0                0.0   \n",
       "4                       0.0  ...          0.0      0.0                0.0   \n",
       "\n",
       "   In the Company of Men  Silent House  Big Fish  Get Real  Trading Places  \\\n",
       "0                    0.0           0.0       0.0       0.0             0.0   \n",
       "1                    0.0           0.0       0.0       0.0             0.0   \n",
       "2                    0.0           0.0       0.0       0.0             0.0   \n",
       "3                    0.0           0.0       0.0       0.0             0.0   \n",
       "4                    0.0           0.0       0.0       0.0             0.0   \n",
       "\n",
       "   DOA: Dead or Alive  Hey Arnold! The Movie  \n",
       "0                 0.0                    0.0  \n",
       "1                 0.0                    0.0  \n",
       "2                 0.0                    0.0  \n",
       "3                 0.0                    0.0  \n",
       "4                 0.0                    0.0  \n",
       "\n",
       "[5 rows x 2002 columns]"
      ],
      "text/html": "<div>\n<style scoped>\n    .dataframe tbody tr th:only-of-type {\n        vertical-align: middle;\n    }\n\n    .dataframe tbody tr th {\n        vertical-align: top;\n    }\n\n    .dataframe thead th {\n        text-align: right;\n    }\n</style>\n<table border=\"1\" class=\"dataframe\">\n  <thead>\n    <tr style=\"text-align: right;\">\n      <th></th>\n      <th>Unnamed: 0</th>\n      <th>User</th>\n      <th>The Net</th>\n      <th>Happily N'Ever After</th>\n      <th>Tomorrowland</th>\n      <th>American Hero</th>\n      <th>Das Boot</th>\n      <th>Final Destination 3</th>\n      <th>Licence to Kill</th>\n      <th>The Hundred-Foot Journey</th>\n      <th>...</th>\n      <th>The Martian</th>\n      <th>Micmacs</th>\n      <th>Solomon and Sheba</th>\n      <th>In the Company of Men</th>\n      <th>Silent House</th>\n      <th>Big Fish</th>\n      <th>Get Real</th>\n      <th>Trading Places</th>\n      <th>DOA: Dead or Alive</th>\n      <th>Hey Arnold! The Movie</th>\n    </tr>\n  </thead>\n  <tbody>\n    <tr>\n      <th>0</th>\n      <td>0</td>\n      <td>Vincent</td>\n      <td>0.0</td>\n      <td>0.0</td>\n      <td>0.0</td>\n      <td>0.0</td>\n      <td>0.0</td>\n      <td>0.0</td>\n      <td>0.0</td>\n      <td>0.0</td>\n      <td>...</td>\n      <td>0.0</td>\n      <td>0.0</td>\n      <td>0.0</td>\n      <td>0.0</td>\n      <td>0.0</td>\n      <td>0.0</td>\n      <td>0.0</td>\n      <td>0.0</td>\n      <td>0.0</td>\n      <td>0.0</td>\n    </tr>\n    <tr>\n      <th>1</th>\n      <td>1</td>\n      <td>Edgar</td>\n      <td>0.0</td>\n      <td>0.0</td>\n      <td>0.0</td>\n      <td>0.0</td>\n      <td>0.0</td>\n      <td>0.0</td>\n      <td>0.0</td>\n      <td>0.0</td>\n      <td>...</td>\n      <td>0.0</td>\n      <td>0.0</td>\n      <td>0.0</td>\n      <td>0.0</td>\n      <td>0.0</td>\n      <td>0.0</td>\n      <td>0.0</td>\n      <td>0.0</td>\n      <td>0.0</td>\n      <td>0.0</td>\n    </tr>\n    <tr>\n      <th>2</th>\n      <td>2</td>\n      <td>Addilyn</td>\n      <td>0.0</td>\n      <td>0.0</td>\n      <td>0.0</td>\n      <td>0.0</td>\n      <td>0.0</td>\n      <td>0.0</td>\n      <td>0.0</td>\n      <td>0.0</td>\n      <td>...</td>\n      <td>0.0</td>\n      <td>0.0</td>\n      <td>0.0</td>\n      <td>0.0</td>\n      <td>0.0</td>\n      <td>0.0</td>\n      <td>0.0</td>\n      <td>0.0</td>\n      <td>0.0</td>\n      <td>0.0</td>\n    </tr>\n    <tr>\n      <th>3</th>\n      <td>3</td>\n      <td>Marlee</td>\n      <td>0.0</td>\n      <td>0.0</td>\n      <td>0.0</td>\n      <td>0.0</td>\n      <td>0.0</td>\n      <td>0.0</td>\n      <td>0.0</td>\n      <td>0.0</td>\n      <td>...</td>\n      <td>0.0</td>\n      <td>0.0</td>\n      <td>0.0</td>\n      <td>0.0</td>\n      <td>0.0</td>\n      <td>0.0</td>\n      <td>0.0</td>\n      <td>0.0</td>\n      <td>0.0</td>\n      <td>0.0</td>\n    </tr>\n    <tr>\n      <th>4</th>\n      <td>4</td>\n      <td>Javier</td>\n      <td>0.0</td>\n      <td>0.0</td>\n      <td>0.0</td>\n      <td>0.0</td>\n      <td>0.0</td>\n      <td>0.0</td>\n      <td>0.0</td>\n      <td>0.0</td>\n      <td>...</td>\n      <td>0.0</td>\n      <td>0.0</td>\n      <td>0.0</td>\n      <td>0.0</td>\n      <td>0.0</td>\n      <td>0.0</td>\n      <td>0.0</td>\n      <td>0.0</td>\n      <td>0.0</td>\n      <td>0.0</td>\n    </tr>\n  </tbody>\n</table>\n<p>5 rows × 2002 columns</p>\n</div>"
     },
     "metadata": {},
     "execution_count": 48
    }
   ],
   "source": [
    "# Getting an understanding of the two data sets\n",
    "\n",
    "user_reviews.head()\n",
    "#movie_genres.head()"
   ]
  },
  {
   "cell_type": "code",
   "execution_count": 49,
   "metadata": {},
   "outputs": [],
   "source": [
    "# Creating a list of all movies\n",
    "\n",
    "movie_names = list(user_reviews.columns.values) \n",
    "movie_names = movie_names[2:] # Removing the first two indecies since they are not movie titles."
   ]
  },
  {
   "cell_type": "code",
   "execution_count": 50,
   "metadata": {},
   "outputs": [
    {
     "output_type": "stream",
     "name": "stdout",
     "text": [
      "[['The Net' '58.0']\n [\"Happily N'Ever After\" '36.0']\n ['Tomorrowland' '40.0']\n ...\n ['Trading Places' '10.0']\n ['DOA: Dead or Alive' '28.0']\n ['Hey Arnold! The Movie' '29.0']]\n"
     ]
    }
   ],
   "source": [
    "# Checking how many ratings each movie have.\n",
    "\n",
    "rating_per_movies = []\n",
    "for names in movie_names:\n",
    "    rating_per_movies = np.append(rating_per_movies,user_reviews[names].sum())\n",
    "\n",
    "rating_per_movies = np.vstack((movie_names, rating_per_movies)).T\n",
    "print(rating_per_movies)"
   ]
  },
  {
   "cell_type": "code",
   "execution_count": 51,
   "metadata": {},
   "outputs": [
    {
     "output_type": "stream",
     "name": "stdout",
     "text": [
      "[['The Net' '4.142857142857143']\n [\"Happily N'Ever After\" '3.6']\n ['Tomorrowland' '3.6363636363636362']\n ...\n ['Trading Places' '3.3333333333333335']\n ['DOA: Dead or Alive' '3.111111111111111']\n ['Hey Arnold! The Movie' '3.625']]\n"
     ]
    }
   ],
   "source": [
    "# Checking the average value of each movie\n",
    "\n",
    "average_rating = []\n",
    "for names in movie_names:\n",
    "    df = user_reviews.loc[(user_reviews[names]>0)]\n",
    "    df = df[names]\n",
    "    average_rating = np.append(average_rating,sum(df)/len(df))\n",
    "\n",
    "average_rating = np.vstack((movie_names,average_rating)).T\n",
    "print(average_rating)"
   ]
  },
  {
   "cell_type": "code",
   "execution_count": 52,
   "metadata": {},
   "outputs": [
    {
     "output_type": "execute_result",
     "data": {
      "text/plain": [
       "      Average_Rating                   Movie\n",
       "1346        5.000000             The Tempest\n",
       "1971        5.000000               United 93\n",
       "1550        5.000000                    Edtv\n",
       "630         4.909091            Chill Factor\n",
       "1388        4.900000       The Hunting Party\n",
       "...              ...                     ...\n",
       "1930        1.571429         One Missed Call\n",
       "368         1.500000  Doc Holliday's Revenge\n",
       "244         1.500000   The Final Destination\n",
       "383         1.500000                  Frenzy\n",
       "1571        1.200000              Pale Rider\n",
       "\n",
       "[2000 rows x 2 columns]"
      ],
      "text/html": "<div>\n<style scoped>\n    .dataframe tbody tr th:only-of-type {\n        vertical-align: middle;\n    }\n\n    .dataframe tbody tr th {\n        vertical-align: top;\n    }\n\n    .dataframe thead th {\n        text-align: right;\n    }\n</style>\n<table border=\"1\" class=\"dataframe\">\n  <thead>\n    <tr style=\"text-align: right;\">\n      <th></th>\n      <th>Average_Rating</th>\n      <th>Movie</th>\n    </tr>\n  </thead>\n  <tbody>\n    <tr>\n      <th>1346</th>\n      <td>5.000000</td>\n      <td>The Tempest</td>\n    </tr>\n    <tr>\n      <th>1971</th>\n      <td>5.000000</td>\n      <td>United 93</td>\n    </tr>\n    <tr>\n      <th>1550</th>\n      <td>5.000000</td>\n      <td>Edtv</td>\n    </tr>\n    <tr>\n      <th>630</th>\n      <td>4.909091</td>\n      <td>Chill Factor</td>\n    </tr>\n    <tr>\n      <th>1388</th>\n      <td>4.900000</td>\n      <td>The Hunting Party</td>\n    </tr>\n    <tr>\n      <th>...</th>\n      <td>...</td>\n      <td>...</td>\n    </tr>\n    <tr>\n      <th>1930</th>\n      <td>1.571429</td>\n      <td>One Missed Call</td>\n    </tr>\n    <tr>\n      <th>368</th>\n      <td>1.500000</td>\n      <td>Doc Holliday's Revenge</td>\n    </tr>\n    <tr>\n      <th>244</th>\n      <td>1.500000</td>\n      <td>The Final Destination</td>\n    </tr>\n    <tr>\n      <th>383</th>\n      <td>1.500000</td>\n      <td>Frenzy</td>\n    </tr>\n    <tr>\n      <th>1571</th>\n      <td>1.200000</td>\n      <td>Pale Rider</td>\n    </tr>\n  </tbody>\n</table>\n<p>2000 rows × 2 columns</p>\n</div>"
     },
     "metadata": {},
     "execution_count": 52
    }
   ],
   "source": [
    "# Creating a dataframe of the data above.\n",
    "\n",
    "df = pd.DataFrame({'Average_Rating':average_rating[:,1], 'Movie': average_rating[:,0]})\n",
    "df['Average_Rating'] = df['Average_Rating'].astype(float)\n",
    "df = df.sort_values(by=['Average_Rating'], ascending = False)\n",
    "#df2 = df.loc[(df['Importance']>0)]\n",
    "df"
   ]
  },
  {
   "cell_type": "code",
   "execution_count": null,
   "metadata": {},
   "outputs": [],
   "source": []
  },
  {
   "source": [
    "# Building a model to predict ratings"
   ],
   "cell_type": "markdown",
   "metadata": {}
  },
  {
   "cell_type": "code",
   "execution_count": 53,
   "metadata": {},
   "outputs": [],
   "source": [
    "import pandas as pd\n",
    "import numpy as np"
   ]
  },
  {
   "cell_type": "code",
   "execution_count": 54,
   "metadata": {},
   "outputs": [],
   "source": [
    "from sklearn.model_selection import train_test_split\n",
    "  \n",
    "# Read the CSV file.\n",
    "movie_genres = pd.read_csv(\"data/movie_genres.csv\", skiprows=0)\n",
    "user_reviews = pd.read_csv(\"data/user_reviews.csv\", skiprows=0)"
   ]
  },
  {
   "cell_type": "code",
   "execution_count": 55,
   "metadata": {},
   "outputs": [],
   "source": [
    "user_reviews.drop('User', axis =1, inplace = True)\n",
    "user_reviews.drop('Unnamed: 0', axis =1, inplace = True)\n"
   ]
  },
  {
   "cell_type": "code",
   "execution_count": 56,
   "metadata": {},
   "outputs": [],
   "source": [
    "from scipy.sparse import csr_matrix\n",
    "\n",
    "user_reviews\n",
    "mat_user_reviews=csr_matrix(user_reviews.values)\n",
    "mat_user_reviews = np.transpose(mat_user_reviews)"
   ]
  },
  {
   "cell_type": "code",
   "execution_count": 57,
   "metadata": {},
   "outputs": [
    {
     "output_type": "execute_result",
     "data": {
      "text/plain": [
       "NearestNeighbors(algorithm='brute', metric='cosine', n_neighbors=20)"
      ]
     },
     "metadata": {},
     "execution_count": 57
    }
   ],
   "source": [
    "from sklearn.neighbors import NearestNeighbors\n",
    "\n",
    "model_knn= NearestNeighbors(metric='cosine', algorithm='brute', n_neighbors=20)\n",
    "model_knn.fit(mat_user_reviews)"
   ]
  },
  {
   "cell_type": "code",
   "execution_count": 58,
   "metadata": {},
   "outputs": [],
   "source": [
    "def retrieveIndex(name):\n",
    "    for i in range(0,len(movie_names)-1):\n",
    "        if movie_names[i]==name:\n",
    "            return i"
   ]
  },
  {
   "cell_type": "code",
   "execution_count": 59,
   "metadata": {},
   "outputs": [],
   "source": [
    "def recommender(movie_name, nr_of_suggestions):\n",
    "    movie_index = retrieveIndex(movie_name)\n",
    "    distances, indices = model_knn.kneighbors(mat_user_reviews[movie_index], n_neighbors=nr_of_suggestions+1)\n",
    "    indices = indices[0]\n",
    "    distances = distances[0]\n",
    "    distances = distances[1:]\n",
    "    indices = indices[1:]\n",
    "    movie_suggestion = []\n",
    "    for i in indices:\n",
    "        movie_suggestion = np.append(movie_suggestion, movie_names[i])\n",
    "    #print(\"Your recommended movies are:\")\n",
    "    #for j in range(0,len(movie_suggestion)-1):\n",
    "        #print(movie_suggestion[j])\n",
    "        #print(\"Relation to watched movie\")\n",
    "        #print(distances[j])\n",
    "\n",
    "    return movie_suggestion, distances"
   ]
  },
  {
   "cell_type": "code",
   "execution_count": 60,
   "metadata": {},
   "outputs": [],
   "source": [
    "## Adding weights to a movie recommendation given its relateds movies rating\n",
    "def rateWeight (rating, suggestions, distances):\n",
    "    res = [[]] * 0\n",
    "    for i in range(0,len(suggestions)-1):\n",
    "        res.append([suggestions[i],1/distances[i]*rating])\n",
    "\n",
    "    return res\n"
   ]
  },
  {
   "cell_type": "code",
   "execution_count": 61,
   "metadata": {},
   "outputs": [],
   "source": [
    "#Returns a DF with all movies that a user has rated with 5 stars\n",
    "def ratedMovies(user):\n",
    "    movies_watched = user_reviews.iloc[user]\n",
    "    movies_watched = movies_watched.dropna()\n",
    "    movies_watched = movies_watched.to_frame()\n",
    "    movies_watched.columns = ['Avg rating']\n",
    "    movies_watched = movies_watched[movies_watched['Avg rating'] > 3.0]\n",
    "    return movies_watched"
   ]
  },
  {
   "cell_type": "code",
   "execution_count": 62,
   "metadata": {},
   "outputs": [],
   "source": [
    "def Contains(string,list):\n",
    "    for i in range(0,len(list)-1):\n",
    "        if list[i][0] == string:\n",
    "            index = i \n",
    "            return True, index\n",
    "    index = -1\n",
    "    return False, index"
   ]
  },
  {
   "cell_type": "code",
   "execution_count": 63,
   "metadata": {},
   "outputs": [],
   "source": [
    "def recommenderSystem(user):\n",
    "    res = ratedMovies(user)\n",
    "\n",
    "    lst = []\n",
    "    for i in range(0,len(res)-1):\n",
    "        lst.append(i)\n",
    "\n",
    "    for i in range(0,len(res)-1):\n",
    "        rating = res.iloc[i][0] \n",
    "        movie = res.index[i]\n",
    "        #print(movie)\n",
    "        movie_suggestion, distances =  recommender(movie,5) \n",
    "        weightedRec = rateWeight(rating, movie_suggestion, distances)\n",
    "        #print(weightedRec)\n",
    "        lst[i] = weightedRec\n",
    "\n",
    "    topList = lst[0]\n",
    "\n",
    "    for i in range(1,len(lst)-1):\n",
    "        for j in range(0,len(lst[i])-1):\n",
    "            boolean, index = Contains(lst[i][j][0],topList)\n",
    "            if boolean:\n",
    "                topList[index][1]=topList[index][1]+lst[i][j][1]\n",
    "            else:\n",
    "                topList.append(lst[i][j])\n",
    "\n",
    "    for i in range(0,len(topList)-1):\n",
    "        for j in range(0,len(res)-1):\n",
    "            if res.index[j]==topList[i][0]:\n",
    "                #print(j)\n",
    "                #print('True')\n",
    "                topList[i][1]=0\n",
    "            \n",
    "\n",
    "\n",
    "    topListDf = pd.DataFrame(topList)\n",
    "    topListDf = topListDf.sort_values(by=[1], ascending = False)\n",
    "\n",
    "\n",
    "    return topListDf"
   ]
  },
  {
   "source": [
    "# Final method"
   ],
   "cell_type": "markdown",
   "metadata": {}
  },
  {
   "cell_type": "code",
   "execution_count": 64,
   "metadata": {},
   "outputs": [
    {
     "output_type": "execute_result",
     "data": {
      "text/plain": [
       "                             0         1\n",
       "19                   Tarnation  8.251577\n",
       "7   Back to the Future Part II  8.170939\n",
       "4                  Hot Pursuit  7.693136\n",
       "28                 Point Blank  7.515756\n",
       "9                  August Rush  7.385380"
      ],
      "text/html": "<div>\n<style scoped>\n    .dataframe tbody tr th:only-of-type {\n        vertical-align: middle;\n    }\n\n    .dataframe tbody tr th {\n        vertical-align: top;\n    }\n\n    .dataframe thead th {\n        text-align: right;\n    }\n</style>\n<table border=\"1\" class=\"dataframe\">\n  <thead>\n    <tr style=\"text-align: right;\">\n      <th></th>\n      <th>0</th>\n      <th>1</th>\n    </tr>\n  </thead>\n  <tbody>\n    <tr>\n      <th>19</th>\n      <td>Tarnation</td>\n      <td>8.251577</td>\n    </tr>\n    <tr>\n      <th>7</th>\n      <td>Back to the Future Part II</td>\n      <td>8.170939</td>\n    </tr>\n    <tr>\n      <th>4</th>\n      <td>Hot Pursuit</td>\n      <td>7.693136</td>\n    </tr>\n    <tr>\n      <th>28</th>\n      <td>Point Blank</td>\n      <td>7.515756</td>\n    </tr>\n    <tr>\n      <th>9</th>\n      <td>August Rush</td>\n      <td>7.385380</td>\n    </tr>\n  </tbody>\n</table>\n</div>"
     },
     "metadata": {},
     "execution_count": 64
    }
   ],
   "source": [
    "resultDf1 = recommenderSystem(0)\n",
    "resultDf1 = recommenderSystem(1)\n",
    "resultDf2 = recommenderSystem(2)\n",
    "resultDf3 = recommenderSystem(3)\n",
    "resultDf4 = recommenderSystem(4)\n",
    "resultDf5 = recommenderSystem(5)\n",
    "\n",
    "#resultDf1.head(5)\n",
    "#resultDf2.head(5)\n",
    "resultDf3.head(5)\n",
    "#resultDf4.head(5)\n",
    "#resultDf5.head(5)\n"
   ]
  },
  {
   "cell_type": "code",
   "execution_count": 66,
   "metadata": {},
   "outputs": [
    {
     "output_type": "execute_result",
     "data": {
      "text/plain": [
       "                               0          1\n",
       "0                The Big Wedding  81.474382\n",
       "15                 Sorority Boys  10.210549\n",
       "16         Supporting Characters   8.215444\n",
       "43  The Outrageous Sophie Tucker   8.146900\n",
       "12                     12 Rounds   7.755961"
      ],
      "text/html": "<div>\n<style scoped>\n    .dataframe tbody tr th:only-of-type {\n        vertical-align: middle;\n    }\n\n    .dataframe tbody tr th {\n        vertical-align: top;\n    }\n\n    .dataframe thead th {\n        text-align: right;\n    }\n</style>\n<table border=\"1\" class=\"dataframe\">\n  <thead>\n    <tr style=\"text-align: right;\">\n      <th></th>\n      <th>0</th>\n      <th>1</th>\n    </tr>\n  </thead>\n  <tbody>\n    <tr>\n      <th>0</th>\n      <td>The Big Wedding</td>\n      <td>81.474382</td>\n    </tr>\n    <tr>\n      <th>15</th>\n      <td>Sorority Boys</td>\n      <td>10.210549</td>\n    </tr>\n    <tr>\n      <th>16</th>\n      <td>Supporting Characters</td>\n      <td>8.215444</td>\n    </tr>\n    <tr>\n      <th>43</th>\n      <td>The Outrageous Sophie Tucker</td>\n      <td>8.146900</td>\n    </tr>\n    <tr>\n      <th>12</th>\n      <td>12 Rounds</td>\n      <td>7.755961</td>\n    </tr>\n  </tbody>\n</table>\n</div>"
     },
     "metadata": {},
     "execution_count": 66
    }
   ],
   "source": [
    "recommenderSystem(2).head(5)"
   ]
  },
  {
   "cell_type": "code",
   "execution_count": null,
   "metadata": {},
   "outputs": [],
   "source": []
  }
 ],
 "metadata": {
  "kernelspec": {
   "display_name": "Python 3",
   "language": "python",
   "name": "python3"
  },
  "language_info": {
   "codemirror_mode": {
    "name": "ipython",
    "version": 3
   },
   "file_extension": ".py",
   "mimetype": "text/x-python",
   "name": "python",
   "nbconvert_exporter": "python",
   "pygments_lexer": "ipython3",
   "version": "3.8.3-final"
  }
 },
 "nbformat": 4,
 "nbformat_minor": 2
}